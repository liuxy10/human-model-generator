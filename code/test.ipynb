{
 "cells": [
  {
   "cell_type": "code",
   "execution_count": 1,
   "metadata": {},
   "outputs": [],
   "source": [
    "import os\n",
    "import xml.etree.ElementTree as ET\n",
    "import sys\n",
    "import idyntree.bindings as iDynTree\n",
    "from urdfModifiers.utils import *\n",
    "__file__ = \"/root/Github/human-model-generator/code/test.ipynb\"\n",
    "sys.path.append(os.path.join(os.path.dirname(__file__), \"src\"))\n",
    "sys.path.append(os.getcwd())\n",
    "from src import *\n",
    "from config import *\n",
    "import mujoco\n",
    "import mujoco_py"
   ]
  },
  {
   "cell_type": "code",
   "execution_count": 2,
   "metadata": {},
   "outputs": [],
   "source": [
    "urdf_file_path = \"/root/Github/human-model-generator/code/models/humanModels/test.urdf\"\n",
    "#\n",
    "write_urdf_with_changes(urdf_file_path) # not useful\n",
    "\n"
   ]
  },
  {
   "cell_type": "code",
   "execution_count": 12,
   "metadata": {},
   "outputs": [
    {
     "data": {
      "text/plain": [
       "dict_keys(['world', 'Pelvis', 'LowerTrunk_f1', 'LowerTrunk', 'UpperTrunk_f1', 'UpperTrunk_f2', 'UpperTrunk', 'RightShoulder', 'LeftShoulder', 'Neck_f1', 'Neck_f2', 'Neck', 'Head_f1', 'Head', 'RightShoulder_f1', 'RightShoulder_f2', 'RightUpperArm', 'RightForeArm_f1', 'RightForeArm', 'RightHand_f1', 'RightHand', 'RightHandCOM', 'LeftShoulder_f1', 'LeftShoulder_f2', 'LeftUpperArm', 'LeftForeArm_f1', 'LeftForeArm', 'LeftHand_f1', 'LeftHand', 'LeftHandCOM', 'RightUpperLeg_f1', 'RightUpperLeg_f2', 'RightUpperLeg', 'RightLowerLeg_f1', 'RightLowerLeg', 'RightFoot_f1', 'RightFoot_f2', 'RightFoot', 'RightToe', 'RightFTSensor', 'LeftUpperLeg_f1', 'LeftUpperLeg_f2', 'LeftUpperLeg', 'LeftLowerLeg_f1', 'LeftLowerLeg', 'LeftFoot_f1', 'LeftFoot_f2', 'LeftFoot', 'LeftToe', 'LeftFTSensor', 'BicBrac_RUA', 'BicBrac_RFA', 'TricBrac_RUA', 'TricBrac_RFA', 'FlexCarp_RFA', 'FlexCarp_RH', 'ExtCarp_RFA', 'ExtCarp_RH', 'BicBrac_LUA', 'BicBrac_LFA', 'TricBrac_LUA', 'TricBrac_LFA', 'FlexCarp_LFA', 'FlexCarp_LH', 'ExtCarp_LFA', 'ExtCarp_LH', 'RecAbd_RUT', 'RecAbd_RP', 'ErSpin_RUT', 'ErSpin_RP', 'RecAbd_LUT', 'RecAbd_LP', 'ErSpin_LUT', 'ErSpin_LP', 'RecFem_RLT', 'RecFem_RLL', 'BicFem_RUL', 'BicFem_RLL', 'RecFem_LLT', 'RecFem_LLL', 'BicFem_LUL', 'BicFem_LLL', 'TibAnt_RLL', 'TibAnt_RF', 'GasLat_RUL', 'GasLat_RF', 'GasMed_RUL', 'GasMed_RF', 'TibAnt_LLL', 'TibAnt_LF', 'GasLat_LUL', 'GasLat_LF', 'GasMed_LUL', 'GasMed_LF'])"
      ]
     },
     "execution_count": 12,
     "metadata": {},
     "output_type": "execute_result"
    }
   ],
   "source": [
    "# model_human = mujoco.MjModel.from_xml_path(urdf_file_path) # lack pelvis info\n",
    "human_urdf, gazebo_plugin_text = utils.load_robot_and_gazebo_plugins(\n",
    "    urdf_file_path, \"no_gazebo_plugins.urdf\") \n",
    "# mujoco.mj_saveLastXML(\"/root/Github/human-model-generator/code/models/humanModels/test.xml\", model_human)\n",
    "# remove_autolimits_attribute(\"/root/Github/human-model-generator/code/models/humanModels/mocap_v2_scaled.xml\")\n",
    "model_robot = mujoco.MjModel.from_xml_path(\"/root/Github/human-model-generator/code/models/humanModels/mocap_v2.xml\")\n",
    "mujoco.mj_saveLastXML(\"/root/Github/human-model-generator/code/models/humanModels/mocap_v2.xml\", model_robot)\n",
    "human_urdf.link_map.keys()"
   ]
  },
  {
   "cell_type": "code",
   "execution_count": 15,
   "metadata": {},
   "outputs": [
    {
     "data": {
      "text/plain": [
       "74.34031250000005"
      ]
     },
     "execution_count": 15,
     "metadata": {},
     "output_type": "execute_result"
    }
   ],
   "source": [
    "model_human = mujoco.MjModel.from_xml_path(\"/root/Github/human-model-generator/code/models/humanModels/mocap_v2_scaled.xml\")"
   ]
  },
  {
   "cell_type": "code",
   "execution_count": 4,
   "metadata": {},
   "outputs": [
    {
     "data": {
      "text/plain": [
       "({'root': 8.8725,\n",
       "  'lfemur': 10.8525,\n",
       "  'ltibia': 3.4274999999999998,\n",
       "  'lfoot': 0.9974999999999999,\n",
       "  'rfemur': 10.8525,\n",
       "  'rtibia': 3.4274999999999998,\n",
       "  'rfoot': 0.9974999999999999,\n",
       "  'upperback': 3.9225,\n",
       "  'throax': 11.617500000000001,\n",
       "  'lowerneck': 5.1075,\n",
       "  'lclavicle': 3.9225,\n",
       "  'lhumerus': 1.9725000000000001,\n",
       "  'lradius': 1.125,\n",
       "  'lwrist': 0.4425,\n",
       "  'rclavicle': 3.9225,\n",
       "  'rhumerus': 1.9725000000000001,\n",
       "  'rradius': 1.125,\n",
       "  'rwrist': 0.4425},\n",
       " 74.99999999999999)"
      ]
     },
     "execution_count": 4,
     "metadata": {},
     "output_type": "execute_result"
    }
   ],
   "source": [
    "# write_urdf_with_changes(\"/root/Github/human-model-generator/code/models/humanModels/base.urdf\")\n",
    "# model_test = mujoco.MjModel.from_xml_path(\"/root/Github/human-model-generator/code/models/humanModels/base.xml\")\n",
    "# mujoco.mj_saveLastXML(\"/root/Github/human-model-generator/code/models/humanModels/base.xml\", model_test)\n",
    "# human_urdf.link_map[\"LeftFoot\"].inertial.mass\n",
    "def get_valid_names(human_urdf):\n",
    "    names = list(human_urdf.link_map.keys())\n",
    "    names = [name for name in names if \"_\" not in name and \"world\" not in name]\n",
    "    names = [name for name in names if human_urdf.link_map[name].inertial.mass > 1e-4]\n",
    "    return names\n",
    "urdf_names = get_valid_names(human_urdf)\n",
    "urdf_masses = [human_urdf.link_map[name].inertial.mass for name in urdf_names]\n",
    "sum(urdf_masses)\n",
    "# urdf_names, urdf_masses\n",
    "name_map = {\n",
    "    \"root\": \"Pelvis\",\n",
    "    \"lfemur\": \"LeftUpperLeg\",\n",
    "    \"ltibia\": \"LeftLowerLeg\",\n",
    "    \"lfoot\": (\"LeftFoot\", \"LeftToe\"),\n",
    "    \"rfemur\": \"RightUpperLeg\",\n",
    "    \"rtibia\": \"RightLowerLeg\",\n",
    "    \"rfoot\": (\"RightFoot\", \"RightToe\"),\n",
    "    \"upperback\": \"UpperTrunk\",\n",
    "    \"throax\": \"LowerTrunk\",\n",
    "    \"lowerneck\": (\"Head\", \"Neck\"),\n",
    "    \"lclavicle\": \"LeftShoulder\",\n",
    "    \"lhumerus\": \"LeftUpperArm\",\n",
    "    \"lradius\": \"LeftForeArm\",\n",
    "    \"lwrist\": \"LeftHand\",\n",
    "    \"rclavicle\": \"RightShoulder\",\n",
    "    \"rhumerus\": \"RightUpperArm\",\n",
    "    \"rradius\": \"RightForeArm\",\n",
    "    \"rwrist\": \"RightHand\"\n",
    "}\n",
    "\n",
    "mass_dict = {}\n",
    "for k in name_map:\n",
    "    if isinstance(name_map[k], tuple):\n",
    "        mass_dict[k] = sum([human_urdf.link_map[name].inertial.mass for name in name_map[k]])\n",
    "    else:\n",
    "        mass_dict[k] = human_urdf.link_map[name_map[k]].inertial.mass\n",
    "\n",
    "        \n",
    "mass_dict, sum(mass_dict.values())"
   ]
  },
  {
   "cell_type": "code",
   "execution_count": 5,
   "metadata": {},
   "outputs": [
    {
     "name": "stdout",
     "output_type": "stream",
     "text": [
      "Body 0: world, mass: 0.0\n",
      "Body 1: root, mass: 5.575279762570686\n",
      "Body 2: lhipjoint, mass: 0.0\n",
      "Body 3: lfemur, mass: 3.5063369632240877\n",
      "Body 4: ltibia, mass: 1.779256777646115\n",
      "Body 5: lfoot, mass: 1.23264\n",
      "Body 6: rhipjoint, mass: 0.0\n",
      "Body 7: rfemur, mass: 3.5063369632240877\n",
      "Body 8: rtibia, mass: 1.779256777646115\n",
      "Body 9: rfoot, mass: 1.23264\n",
      "Body 10: lowerback, mass: 0.0\n",
      "Body 11: upperback, mass: 1.4367550402417326\n",
      "Body 12: thorax, mass: 4.188790204786391\n",
      "Body 13: lowerneck, mass: 2.1446605848506324\n",
      "Body 14: upperneck, mass: 0.0\n",
      "Body 15: head, mass: 0.0\n",
      "Body 16: lclavicle, mass: 0.7365061842714081\n",
      "Body 17: lhumerus, mass: 0.86717769480133\n",
      "Body 18: lradius, mass: 0.41397028195740504\n",
      "Body 19: lwrist, mass: 0.26808257310632905\n",
      "Body 20: rclavicle, mass: 0.7365061842714081\n",
      "Body 21: rhumerus, mass: 0.86717769480133\n",
      "Body 22: rradius, mass: 0.41397028195740504\n",
      "Body 23: rwrist, mass: 0.26808257310632905\n",
      "sum of masses: 30.9534265424628\n"
     ]
    }
   ],
   "source": [
    "# model_robot.body_inertia.shape, model_human.body_inertia.shape\n",
    "# model_robot.body_mass.shape, model_human.body_mass.shape\n",
    "# model_human, model_robot\n",
    "\n",
    "# Print all body names\n",
    "\n",
    "for i in range(model_robot.nbody):\n",
    "    print(f\"Body {i}: {model_robot.body(i).name}, mass: {model_robot.body_mass[i]}\")\n",
    "print(\"sum of masses:\", sum(model_robot.body_mass))\n",
    "\n",
    "\n",
    "# body_id = model_human.body(\"Pelvis\").id"
   ]
  },
  {
   "cell_type": "code",
   "execution_count": 6,
   "metadata": {},
   "outputs": [
    {
     "name": "stdout",
     "output_type": "stream",
     "text": [
      "total height: 1.4954 meters\n"
     ]
    }
   ],
   "source": [
    "\n",
    "import mujoco\n",
    "import numpy as np\n",
    "\n",
    "# Usage\n",
    "model_path = \"/root/Github/human-model-generator/code/models/humanModels/mocap_v2.xml\"\n",
    "height_info = calculate_humanoid_height(model_path)\n",
    "\n",
    "# Save the modified XML model file\n",
    "print(f\"total height: {height_info:.4f} meters\")\n"
   ]
  },
  {
   "cell_type": "code",
   "execution_count": 11,
   "metadata": {},
   "outputs": [
    {
     "name": "stdout",
     "output_type": "stream",
     "text": [
      "Scaling the model size to 1.75 meters\n",
      "total mass: 75 kg\n",
      "Saving the scaled model to /root/Github/human-model-generator/code/models/humanModels/mocap_v2_scaled.xml\n"
     ]
    }
   ],
   "source": [
    "\n",
    "real_height = 1.75 \n",
    "scaled_model_path = \"/root/Github/human-model-generator/code/models/humanModels/mocap_v2_scaled.xml\"\n",
    "# scale_humanoid_model(model_path, scaled_model_path, real_height, weight = 75)\n",
    "scale_humanoid_model(model_path, scaled_model_path, real_height, weight = 75)\n",
    "\n"
   ]
  },
  {
   "cell_type": "code",
   "execution_count": 8,
   "metadata": {},
   "outputs": [
    {
     "name": "stdout",
     "output_type": "stream",
     "text": [
      "Body Information\n",
      "Body Name          | Body Mass \n",
      "-------------------|-------------------------\n",
      "Body 0: world               | 0.0                \n",
      "Body 1: root                | 13.50887539443095  \n",
      "Body 2: lhipjoint           | 0.0                \n",
      "Body 3: lfemur              | 8.495837185619811  \n",
      "Body 4: ltibia              | 4.311130405559332  \n",
      "Body 5: lfoot               | 2.986680646589392  \n",
      "Body 6: rhipjoint           | 0.0                \n",
      "Body 7: rfemur              | 8.495837185619811  \n",
      "Body 8: rtibia              | 4.311130405559332  \n",
      "Body 9: rfoot               | 2.986680646589392  \n",
      "Body 10: lowerback           | 0.0                \n",
      "Body 11: upperback           | 3.4812503833882924 \n",
      "Body 12: thorax              | 10.149418027371114 \n",
      "Body 13: lowerneck           | 5.196502030014011  \n",
      "Body 14: upperneck           | 0.0                \n",
      "Body 15: head                | 0.0                \n",
      "Body 16: lclavicle           | 1.784550855608138  \n",
      "Body 17: lhumerus            | 2.1011672817831104 \n",
      "Body 18: lradius             | 1.003047953486286  \n",
      "Body 19: lwrist              | 0.6495627537517513 \n",
      "Body 20: rclavicle           | 1.784550855608138  \n",
      "Body 21: rhumerus            | 2.1011672817831104 \n",
      "Body 22: rradius             | 1.003047953486286  \n",
      "Body 23: rwrist              | 0.6495627537517513 \n",
      "Total Mass: 75.0000\n"
     ]
    }
   ],
   "source": [
    "import xml.etree.ElementTree as ET\n",
    "# remove_autolimits_attribute(scaled_model_path)\n",
    "model = mujoco.MjModel.from_xml_path(scaled_model_path)\n",
    "print_body_info_table(model)"
   ]
  },
  {
   "cell_type": "code",
   "execution_count": 9,
   "metadata": {},
   "outputs": [
    {
     "ename": "SyntaxError",
     "evalue": "invalid syntax (1545386278.py, line 1)",
     "output_type": "error",
     "traceback": [
      "\u001b[0;36m  Cell \u001b[0;32mIn[9], line 1\u001b[0;36m\u001b[0m\n\u001b[0;31m    |-----------------------------------------------------------|\u001b[0m\n\u001b[0m    ^\u001b[0m\n\u001b[0;31mSyntaxError\u001b[0m\u001b[0;31m:\u001b[0m invalid syntax\n"
     ]
    }
   ],
   "source": []
  }
 ],
 "metadata": {
  "kernelspec": {
   "display_name": "rfc",
   "language": "python",
   "name": "python3"
  },
  "language_info": {
   "codemirror_mode": {
    "name": "ipython",
    "version": 3
   },
   "file_extension": ".py",
   "mimetype": "text/x-python",
   "name": "python",
   "nbconvert_exporter": "python",
   "pygments_lexer": "ipython3",
   "version": "3.8.20"
  }
 },
 "nbformat": 4,
 "nbformat_minor": 2
}
